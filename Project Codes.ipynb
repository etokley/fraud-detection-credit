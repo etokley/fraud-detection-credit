{
 "cells": [
  {
   "cell_type": "code",
   "execution_count": 59,
   "id": "7c7bd9f5-9727-4f07-b1f0-f87719844aec",
   "metadata": {},
   "outputs": [],
   "source": [
    "import numpy as np\n",
    "import pandas as pd\n",
    "import matplotlib.pyplot as plt\n",
    "import seaborn as sns\n",
    "from sklearn.linear_model import LogisticRegression\n",
    "from sklearn.ensemble import RandomForestClassifier\n",
    "from sklearn.model_selection import train_test_split, KFold\n",
    "from sklearn.model_selection import cross_val_score, GridSearchCV\n",
    "%matplotlib inline"
   ]
  },
  {
   "cell_type": "code",
   "execution_count": 45,
   "id": "fda9940f-ed22-4c68-8856-828ba26f9ed2",
   "metadata": {},
   "outputs": [],
   "source": [
    "df = pd.read_csv('creditcard.csv')"
   ]
  },
  {
   "cell_type": "code",
   "execution_count": 46,
   "id": "b01947f4-2697-4aec-93f2-c8cb464a6be3",
   "metadata": {},
   "outputs": [
    {
     "data": {
      "text/html": [
       "<div>\n",
       "<style scoped>\n",
       "    .dataframe tbody tr th:only-of-type {\n",
       "        vertical-align: middle;\n",
       "    }\n",
       "\n",
       "    .dataframe tbody tr th {\n",
       "        vertical-align: top;\n",
       "    }\n",
       "\n",
       "    .dataframe thead th {\n",
       "        text-align: right;\n",
       "    }\n",
       "</style>\n",
       "<table border=\"1\" class=\"dataframe\">\n",
       "  <thead>\n",
       "    <tr style=\"text-align: right;\">\n",
       "      <th></th>\n",
       "      <th>Time</th>\n",
       "      <th>V1</th>\n",
       "      <th>V2</th>\n",
       "      <th>V3</th>\n",
       "      <th>V4</th>\n",
       "      <th>V5</th>\n",
       "      <th>V6</th>\n",
       "      <th>V7</th>\n",
       "      <th>V8</th>\n",
       "      <th>V9</th>\n",
       "      <th>...</th>\n",
       "      <th>V21</th>\n",
       "      <th>V22</th>\n",
       "      <th>V23</th>\n",
       "      <th>V24</th>\n",
       "      <th>V25</th>\n",
       "      <th>V26</th>\n",
       "      <th>V27</th>\n",
       "      <th>V28</th>\n",
       "      <th>Amount</th>\n",
       "      <th>Class</th>\n",
       "    </tr>\n",
       "  </thead>\n",
       "  <tbody>\n",
       "    <tr>\n",
       "      <th>0</th>\n",
       "      <td>0.0</td>\n",
       "      <td>-1.359807</td>\n",
       "      <td>-0.072781</td>\n",
       "      <td>2.536347</td>\n",
       "      <td>1.378155</td>\n",
       "      <td>-0.338321</td>\n",
       "      <td>0.462388</td>\n",
       "      <td>0.239599</td>\n",
       "      <td>0.098698</td>\n",
       "      <td>0.363787</td>\n",
       "      <td>...</td>\n",
       "      <td>-0.018307</td>\n",
       "      <td>0.277838</td>\n",
       "      <td>-0.110474</td>\n",
       "      <td>0.066928</td>\n",
       "      <td>0.128539</td>\n",
       "      <td>-0.189115</td>\n",
       "      <td>0.133558</td>\n",
       "      <td>-0.021053</td>\n",
       "      <td>149.62</td>\n",
       "      <td>0</td>\n",
       "    </tr>\n",
       "    <tr>\n",
       "      <th>1</th>\n",
       "      <td>0.0</td>\n",
       "      <td>1.191857</td>\n",
       "      <td>0.266151</td>\n",
       "      <td>0.166480</td>\n",
       "      <td>0.448154</td>\n",
       "      <td>0.060018</td>\n",
       "      <td>-0.082361</td>\n",
       "      <td>-0.078803</td>\n",
       "      <td>0.085102</td>\n",
       "      <td>-0.255425</td>\n",
       "      <td>...</td>\n",
       "      <td>-0.225775</td>\n",
       "      <td>-0.638672</td>\n",
       "      <td>0.101288</td>\n",
       "      <td>-0.339846</td>\n",
       "      <td>0.167170</td>\n",
       "      <td>0.125895</td>\n",
       "      <td>-0.008983</td>\n",
       "      <td>0.014724</td>\n",
       "      <td>2.69</td>\n",
       "      <td>0</td>\n",
       "    </tr>\n",
       "    <tr>\n",
       "      <th>2</th>\n",
       "      <td>1.0</td>\n",
       "      <td>-1.358354</td>\n",
       "      <td>-1.340163</td>\n",
       "      <td>1.773209</td>\n",
       "      <td>0.379780</td>\n",
       "      <td>-0.503198</td>\n",
       "      <td>1.800499</td>\n",
       "      <td>0.791461</td>\n",
       "      <td>0.247676</td>\n",
       "      <td>-1.514654</td>\n",
       "      <td>...</td>\n",
       "      <td>0.247998</td>\n",
       "      <td>0.771679</td>\n",
       "      <td>0.909412</td>\n",
       "      <td>-0.689281</td>\n",
       "      <td>-0.327642</td>\n",
       "      <td>-0.139097</td>\n",
       "      <td>-0.055353</td>\n",
       "      <td>-0.059752</td>\n",
       "      <td>378.66</td>\n",
       "      <td>0</td>\n",
       "    </tr>\n",
       "    <tr>\n",
       "      <th>3</th>\n",
       "      <td>1.0</td>\n",
       "      <td>-0.966272</td>\n",
       "      <td>-0.185226</td>\n",
       "      <td>1.792993</td>\n",
       "      <td>-0.863291</td>\n",
       "      <td>-0.010309</td>\n",
       "      <td>1.247203</td>\n",
       "      <td>0.237609</td>\n",
       "      <td>0.377436</td>\n",
       "      <td>-1.387024</td>\n",
       "      <td>...</td>\n",
       "      <td>-0.108300</td>\n",
       "      <td>0.005274</td>\n",
       "      <td>-0.190321</td>\n",
       "      <td>-1.175575</td>\n",
       "      <td>0.647376</td>\n",
       "      <td>-0.221929</td>\n",
       "      <td>0.062723</td>\n",
       "      <td>0.061458</td>\n",
       "      <td>123.50</td>\n",
       "      <td>0</td>\n",
       "    </tr>\n",
       "    <tr>\n",
       "      <th>4</th>\n",
       "      <td>2.0</td>\n",
       "      <td>-1.158233</td>\n",
       "      <td>0.877737</td>\n",
       "      <td>1.548718</td>\n",
       "      <td>0.403034</td>\n",
       "      <td>-0.407193</td>\n",
       "      <td>0.095921</td>\n",
       "      <td>0.592941</td>\n",
       "      <td>-0.270533</td>\n",
       "      <td>0.817739</td>\n",
       "      <td>...</td>\n",
       "      <td>-0.009431</td>\n",
       "      <td>0.798278</td>\n",
       "      <td>-0.137458</td>\n",
       "      <td>0.141267</td>\n",
       "      <td>-0.206010</td>\n",
       "      <td>0.502292</td>\n",
       "      <td>0.219422</td>\n",
       "      <td>0.215153</td>\n",
       "      <td>69.99</td>\n",
       "      <td>0</td>\n",
       "    </tr>\n",
       "  </tbody>\n",
       "</table>\n",
       "<p>5 rows × 31 columns</p>\n",
       "</div>"
      ],
      "text/plain": [
       "   Time        V1        V2        V3        V4        V5        V6        V7  \\\n",
       "0   0.0 -1.359807 -0.072781  2.536347  1.378155 -0.338321  0.462388  0.239599   \n",
       "1   0.0  1.191857  0.266151  0.166480  0.448154  0.060018 -0.082361 -0.078803   \n",
       "2   1.0 -1.358354 -1.340163  1.773209  0.379780 -0.503198  1.800499  0.791461   \n",
       "3   1.0 -0.966272 -0.185226  1.792993 -0.863291 -0.010309  1.247203  0.237609   \n",
       "4   2.0 -1.158233  0.877737  1.548718  0.403034 -0.407193  0.095921  0.592941   \n",
       "\n",
       "         V8        V9  ...       V21       V22       V23       V24       V25  \\\n",
       "0  0.098698  0.363787  ... -0.018307  0.277838 -0.110474  0.066928  0.128539   \n",
       "1  0.085102 -0.255425  ... -0.225775 -0.638672  0.101288 -0.339846  0.167170   \n",
       "2  0.247676 -1.514654  ...  0.247998  0.771679  0.909412 -0.689281 -0.327642   \n",
       "3  0.377436 -1.387024  ... -0.108300  0.005274 -0.190321 -1.175575  0.647376   \n",
       "4 -0.270533  0.817739  ... -0.009431  0.798278 -0.137458  0.141267 -0.206010   \n",
       "\n",
       "        V26       V27       V28  Amount  Class  \n",
       "0 -0.189115  0.133558 -0.021053  149.62      0  \n",
       "1  0.125895 -0.008983  0.014724    2.69      0  \n",
       "2 -0.139097 -0.055353 -0.059752  378.66      0  \n",
       "3 -0.221929  0.062723  0.061458  123.50      0  \n",
       "4  0.502292  0.219422  0.215153   69.99      0  \n",
       "\n",
       "[5 rows x 31 columns]"
      ]
     },
     "execution_count": 46,
     "metadata": {},
     "output_type": "execute_result"
    }
   ],
   "source": [
    "df.head()"
   ]
  },
  {
   "cell_type": "code",
   "execution_count": 47,
   "id": "cd8a2f15-8775-46c5-91cf-70c316fdff35",
   "metadata": {},
   "outputs": [
    {
     "data": {
      "text/plain": [
       "(284807, 31)"
      ]
     },
     "execution_count": 47,
     "metadata": {},
     "output_type": "execute_result"
    }
   ],
   "source": [
    "df.shape"
   ]
  },
  {
   "cell_type": "code",
   "execution_count": 48,
   "id": "86f77c6b-8e87-4f0e-a890-c283119f4ab3",
   "metadata": {},
   "outputs": [
    {
     "name": "stdout",
     "output_type": "stream",
     "text": [
      "<class 'pandas.core.frame.DataFrame'>\n",
      "RangeIndex: 284807 entries, 0 to 284806\n",
      "Data columns (total 31 columns):\n",
      " #   Column  Non-Null Count   Dtype  \n",
      "---  ------  --------------   -----  \n",
      " 0   Time    284807 non-null  float64\n",
      " 1   V1      284807 non-null  float64\n",
      " 2   V2      284807 non-null  float64\n",
      " 3   V3      284807 non-null  float64\n",
      " 4   V4      284807 non-null  float64\n",
      " 5   V5      284807 non-null  float64\n",
      " 6   V6      284807 non-null  float64\n",
      " 7   V7      284807 non-null  float64\n",
      " 8   V8      284807 non-null  float64\n",
      " 9   V9      284807 non-null  float64\n",
      " 10  V10     284807 non-null  float64\n",
      " 11  V11     284807 non-null  float64\n",
      " 12  V12     284807 non-null  float64\n",
      " 13  V13     284807 non-null  float64\n",
      " 14  V14     284807 non-null  float64\n",
      " 15  V15     284807 non-null  float64\n",
      " 16  V16     284807 non-null  float64\n",
      " 17  V17     284807 non-null  float64\n",
      " 18  V18     284807 non-null  float64\n",
      " 19  V19     284807 non-null  float64\n",
      " 20  V20     284807 non-null  float64\n",
      " 21  V21     284807 non-null  float64\n",
      " 22  V22     284807 non-null  float64\n",
      " 23  V23     284807 non-null  float64\n",
      " 24  V24     284807 non-null  float64\n",
      " 25  V25     284807 non-null  float64\n",
      " 26  V26     284807 non-null  float64\n",
      " 27  V27     284807 non-null  float64\n",
      " 28  V28     284807 non-null  float64\n",
      " 29  Amount  284807 non-null  float64\n",
      " 30  Class   284807 non-null  int64  \n",
      "dtypes: float64(30), int64(1)\n",
      "memory usage: 67.4 MB\n"
     ]
    }
   ],
   "source": [
    "df.info()"
   ]
  },
  {
   "cell_type": "code",
   "execution_count": 69,
   "id": "3be9b7f3-55fd-4087-b4cc-2cc126f57b2d",
   "metadata": {},
   "outputs": [],
   "source": [
    "cols = pd.Series(['V1', 'V2', 'V3', 'V4', 'V5', 'V6', 'V7', 'V8', 'V9', 'V10',\n",
    "       'V11', 'V12', 'V13', 'V14', 'V15', 'V16', 'V17', 'V18', 'V19', 'V20',\n",
    "       'V21', 'V22', 'V23', 'V24', 'V25', 'V26', 'V27', 'V28', 'Amount'],\n",
    "      dtype='object')"
   ]
  },
  {
   "cell_type": "code",
   "execution_count": 49,
   "id": "acb60f24-9f40-4008-ab65-dd96e66d2fc1",
   "metadata": {},
   "outputs": [
    {
     "name": "stdout",
     "output_type": "stream",
     "text": [
      "0    284315\n",
      "1       492\n",
      "Name: Class, dtype: int64\n"
     ]
    }
   ],
   "source": [
    "classes = df['Class'].value_counts()\n",
    "print(classes)"
   ]
  },
  {
   "cell_type": "code",
   "execution_count": 50,
   "id": "fc433820-64c3-4a40-bbab-da569ffe51e6",
   "metadata": {},
   "outputs": [
    {
     "data": {
      "text/plain": [
       "0    0.998273\n",
       "1    0.001727\n",
       "Name: Class, dtype: float64"
      ]
     },
     "execution_count": 50,
     "metadata": {},
     "output_type": "execute_result"
    }
   ],
   "source": [
    "classes/sum(classes)"
   ]
  },
  {
   "cell_type": "code",
   "execution_count": 51,
   "id": "df504435-b977-4199-91cb-30aa0a7260fd",
   "metadata": {},
   "outputs": [],
   "source": [
    "def prep_data(df):\n",
    "    X = df.iloc[:, 1:30]\n",
    "    X = np.array(X).astype(np.float64)\n",
    "    y = df.iloc[:, 30]\n",
    "    return X, y\n",
    "\n",
    "X, y = prep_data(df)"
   ]
  },
  {
   "cell_type": "code",
   "execution_count": 52,
   "id": "e0e57f5d-925d-41df-9fb4-84079c53f6ad",
   "metadata": {},
   "outputs": [
    {
     "data": {
      "image/png": "[encoded data removed]",
      "text/plain": [
       "<Figure size 432x288 with 1 Axes>"
      ]
     },
     "metadata": {
      "needs_background": "light"
     },
     "output_type": "display_data"
    }
   ],
   "source": [
    "def plot_data(X, y):\n",
    "    plt.scatter(X[y == 0, 0], X[y == 0, 2], label = \"#0\", alpha=0.15, linewidth=0.15) #V1 by V3\n",
    "    plt.scatter(X[y == 1, 0], X[y == 1, 2], label = \"#1\", alpha=0.15, linewidth=0.15, c='r') #V1 by V3\n",
    "    plt.legend()\n",
    "    return plt.show()\n",
    "\n",
    "plot_data(X, y)"
   ]
  },
  {
   "cell_type": "markdown",
   "id": "236a6d09-1b21-43f4-987a-903c7842a62a",
   "metadata": {},
   "source": [
    "<h1>Modeling</h1>"
   ]
  },
  {
   "cell_type": "code",
   "execution_count": 53,
   "id": "7ae61a5a-3d83-4a18-bac6-1da06edb54b2",
   "metadata": {},
   "outputs": [],
   "source": [
    "def prep_data(df):\n",
    "    X = df.iloc[:, 1:30]\n",
    "    X = np.array(X).astype(np.float64)\n",
    "    y = df.iloc[:, 30]\n",
    "    return X, y\n",
    "\n",
    "X, y = prep_data(df)"
   ]
  },
  {
   "cell_type": "code",
   "execution_count": 54,
   "id": "12ab4803-5cd2-4f3f-950c-1db464e4ac56",
   "metadata": {},
   "outputs": [],
   "source": [
    "from sklearn.metrics import confusion_matrix, classification_report, precision_recall_curve, average_precision_score\n",
    "from numpy import mean"
   ]
  },
  {
   "cell_type": "code",
   "execution_count": 55,
   "id": "d5121a66-bea1-44af-9544-6758c7138193",
   "metadata": {},
   "outputs": [],
   "source": [
    "X_train, X_test, y_train, y_test = train_test_split(X, y, test_size=0.30, random_state=0)\n",
    "cv = KFold(n_splits=5, random_state=1, shuffle=True)"
   ]
  },
  {
   "cell_type": "code",
   "execution_count": 15,
   "id": "2a98b159-1d5d-4207-be8c-2afea0581e6f",
   "metadata": {
    "tags": []
   },
   "outputs": [
    {
     "name": "stdout",
     "output_type": "stream",
     "text": [
      "[0.70491803 0.73504274 0.72072072 0.70833333 0.73469388]\n",
      "0.7207417398869389\n"
     ]
    }
   ],
   "source": [
    "#Logistic Regression CV\n",
    "lr_cv = LogisticRegression(random_state=0, max_iter = 5000)\n",
    "scores1 = cross_val_score(lr_cv, X_train, y_train, cv=cv, scoring='f1')\n",
    "print(scores1)\n",
    "print('Logistic Regression CV Avg. F1 Score: %.3f' % mean(scores1))"
   ]
  },
  {
   "cell_type": "code",
   "execution_count": 57,
   "id": "473a1e85-ba5a-4208-84b4-d8059dcb4b13",
   "metadata": {},
   "outputs": [
    {
     "data": {
      "text/html": [
       "<style>#sk-container-id-3 {color: black;background-color: white;}#sk-container-id-3 pre{padding: 0;}#sk-container-id-3 div.sk-toggleable {background-color: white;}#sk-container-id-3 label.sk-toggleable__label {cursor: pointer;display: block;width: 100%;margin-bottom: 0;padding: 0.3em;box-sizing: border-box;text-align: center;}#sk-container-id-3 label.sk-toggleable__label-arrow:before {content: \"▸\";float: left;margin-right: 0.25em;color: #696969;}#sk-container-id-3 label.sk-toggleable__label-arrow:hover:before {color: black;}#sk-container-id-3 div.sk-estimator:hover label.sk-toggleable__label-arrow:before {color: black;}#sk-container-id-3 div.sk-toggleable__content {max-height: 0;max-width: 0;overflow: hidden;text-align: left;background-color: #f0f8ff;}#sk-container-id-3 div.sk-toggleable__content pre {margin: 0.2em;color: black;border-radius: 0.25em;background-color: #f0f8ff;}#sk-container-id-3 input.sk-toggleable__control:checked~div.sk-toggleable__content {max-height: 200px;max-width: 100%;overflow: auto;}#sk-container-id-3 input.sk-toggleable__control:checked~label.sk-toggleable__label-arrow:before {content: \"▾\";}#sk-container-id-3 div.sk-estimator input.sk-toggleable__control:checked~label.sk-toggleable__label {background-color: #d4ebff;}#sk-container-id-3 div.sk-label input.sk-toggleable__control:checked~label.sk-toggleable__label {background-color: #d4ebff;}#sk-container-id-3 input.sk-hidden--visually {border: 0;clip: rect(1px 1px 1px 1px);clip: rect(1px, 1px, 1px, 1px);height: 1px;margin: -1px;overflow: hidden;padding: 0;position: absolute;width: 1px;}#sk-container-id-3 div.sk-estimator {font-family: monospace;background-color: #f0f8ff;border: 1px dotted black;border-radius: 0.25em;box-sizing: border-box;margin-bottom: 0.5em;}#sk-container-id-3 div.sk-estimator:hover {background-color: #d4ebff;}#sk-container-id-3 div.sk-parallel-item::after {content: \"\";width: 100%;border-bottom: 1px solid gray;flex-grow: 1;}#sk-container-id-3 div.sk-label:hover label.sk-toggleable__label {background-color: #d4ebff;}#sk-container-id-3 div.sk-serial::before {content: \"\";position: absolute;border-left: 1px solid gray;box-sizing: border-box;top: 0;bottom: 0;left: 50%;z-index: 0;}#sk-container-id-3 div.sk-serial {display: flex;flex-direction: column;align-items: center;background-color: white;padding-right: 0.2em;padding-left: 0.2em;position: relative;}#sk-container-id-3 div.sk-item {position: relative;z-index: 1;}#sk-container-id-3 div.sk-parallel {display: flex;align-items: stretch;justify-content: center;background-color: white;position: relative;}#sk-container-id-3 div.sk-item::before, #sk-container-id-3 div.sk-parallel-item::before {content: \"\";position: absolute;border-left: 1px solid gray;box-sizing: border-box;top: 0;bottom: 0;left: 50%;z-index: -1;}#sk-container-id-3 div.sk-parallel-item {display: flex;flex-direction: column;z-index: 1;position: relative;background-color: white;}#sk-container-id-3 div.sk-parallel-item:first-child::after {align-self: flex-end;width: 50%;}#sk-container-id-3 div.sk-parallel-item:last-child::after {align-self: flex-start;width: 50%;}#sk-container-id-3 div.sk-parallel-item:only-child::after {width: 0;}#sk-container-id-3 div.sk-dashed-wrapped {border: 1px dashed gray;margin: 0 0.4em 0.5em 0.4em;box-sizing: border-box;padding-bottom: 0.4em;background-color: white;}#sk-container-id-3 div.sk-label label {font-family: monospace;font-weight: bold;display: inline-block;line-height: 1.2em;}#sk-container-id-3 div.sk-label-container {text-align: center;}#sk-container-id-3 div.sk-container {/* jupyter's `normalize.less` sets `[hidden] { display: none; }` but bootstrap.min.css set `[hidden] { display: none !important; }` so we also need the `!important` here to be able to override the default hidden behavior on the sphinx rendered scikit-learn.org. See: https://github.com/scikit-learn/scikit-learn/issues/21755 */display: inline-block !important;position: relative;}#sk-container-id-3 div.sk-text-repr-fallback {display: none;}</style><div id=\"sk-container-id-3\" class=\"sk-top-container\"><div class=\"sk-text-repr-fallback\"><pre>LogisticRegression(max_iter=5000, random_state=0)</pre><b>In a Jupyter environment, please rerun this cell to show the HTML representation or trust the notebook. <br />On GitHub, the HTML representation is unable to render, please try loading this page with nbviewer.org.</b></div><div class=\"sk-container\" hidden><div class=\"sk-item\"><div class=\"sk-estimator sk-toggleable\"><input class=\"sk-toggleable__control sk-hidden--visually\" id=\"sk-estimator-id-3\" type=\"checkbox\" checked><label for=\"sk-estimator-id-3\" class=\"sk-toggleable__label sk-toggleable__label-arrow\">LogisticRegression</label><div class=\"sk-toggleable__content\"><pre>LogisticRegression(max_iter=5000, random_state=0)</pre></div></div></div></div></div>"
      ],
      "text/plain": [
       "LogisticRegression(max_iter=5000, random_state=0)"
      ]
     },
     "execution_count": 57,
     "metadata": {},
     "output_type": "execute_result"
    }
   ],
   "source": [
    "#Logistic Regression\n",
    "lr = LogisticRegression(random_state=0, max_iter=5000)\n",
    "lr.fit(X_train, y_train)"
   ]
  },
  {
   "cell_type": "code",
   "execution_count": 29,
   "id": "0c785a9e-37df-4299-8c42-3a6c53c5cb0b",
   "metadata": {},
   "outputs": [
    {
     "name": "stdout",
     "output_type": "stream",
     "text": [
      "[[85284    12]\n",
      " [   56    91]]\n",
      "              precision    recall  f1-score   support\n",
      "\n",
      "           0       1.00      1.00      1.00     85296\n",
      "           1       0.88      0.62      0.73       147\n",
      "\n",
      "    accuracy                           1.00     85443\n",
      "   macro avg       0.94      0.81      0.86     85443\n",
      "weighted avg       1.00      1.00      1.00     85443\n",
      "\n",
      "Logistic Regression Accuracy: 0.999204\n"
     ]
    }
   ],
   "source": [
    "#predictions with Logistic Regression\n",
    "lr_preds = lr.predict(X_test)\n",
    "print(confusion_matrix(y_test, lr_preds))\n",
    "print(classification_report(y_test, lr_preds))\n",
    "print('Logistic Regression Accuracy: %.6f' % lr.score(X_test, y_test))"
   ]
  },
  {
   "cell_type": "code",
   "execution_count": 30,
   "id": "96e08183-641e-458f-8039-90e730abe1e9",
   "metadata": {},
   "outputs": [
    {
     "name": "stdout",
     "output_type": "stream",
     "text": [
      "[0.87878788 0.86206897 0.85950413 0.81045752 0.84615385]\n",
      "Random Forest CV Avg. F1 Score: 0.851\n"
     ]
    }
   ],
   "source": [
    "#Random Forest cv\n",
    "rf_cv = RandomForestClassifier()\n",
    "rf_cv_scores = cross_val_score(rf_cv, X_train, y_train, cv=cv, scoring='f1')\n",
    "\n",
    "print(rf_cv_scores)\n",
    "print('Random Forest CV Avg. F1 Score: %.3f' % mean(rf_cv_scores))"
   ]
  },
  {
   "cell_type": "code",
   "execution_count": 58,
   "id": "ac26afb3-3e1f-4f94-a4a0-dd428208f258",
   "metadata": {},
   "outputs": [
    {
     "name": "stdout",
     "output_type": "stream",
     "text": [
      "[[85289     7]\n",
      " [   34   113]]\n",
      "              precision    recall  f1-score   support\n",
      "\n",
      "           0       1.00      1.00      1.00     85296\n",
      "           1       0.94      0.77      0.85       147\n",
      "\n",
      "    accuracy                           1.00     85443\n",
      "   macro avg       0.97      0.88      0.92     85443\n",
      "weighted avg       1.00      1.00      1.00     85443\n",
      "\n"
     ]
    }
   ],
   "source": [
    "#final RF model\n",
    "rf1 = RandomForestClassifier(random_state=0, max_depth=100,\n",
    "                             max_features=5, n_estimators=150,\n",
    "                            min_samples_split=2, criterion='entropy')\n",
    "rf1.fit(X_train, y_train)\n",
    "rf1_preds = rf1.predict(X_test)\n",
    "print(confusion_matrix(y_test, rf1_preds))\n",
    "print(classification_report(y_test, rf1_preds))"
   ]
  },
  {
   "cell_type": "code",
   "execution_count": 71,
   "id": "0efbeb27-22df-4a41-b437-a097928bbb9d",
   "metadata": {},
   "outputs": [],
   "source": [
    "def plot_feature_importance(importance,names,model_type):\n",
    "\n",
    "    feature_importance = np.array(importance)\n",
    "    feature_names = np.array(names)\n",
    "\n",
    "    data={'feature_names':feature_names,'feature_importance':feature_importance}\n",
    "    fi_df = pd.DataFrame(data)\n",
    "\n",
    "    fi_df.sort_values(by=['feature_importance'], ascending=False,inplace=True)\n",
    "\n",
    "    plt.figure(figsize=(10,8))\n",
    "    sns.barplot(x=fi_df['feature_importance'], y=fi_df['feature_names'])\n",
    "    plt.title(model_type + ' FEATURE IMPORTANCE')\n",
    "    plt.xlabel('FEATURE IMPORTANCE')\n",
    "    plt.ylabel('FEATURE NAMES')"
   ]
  },
  {
   "cell_type": "code",
   "execution_count": 72,
   "id": "b525f203-2060-4bfe-a097-108d6af10010",
   "metadata": {},
   "outputs": [
    {
     "data": {
      "image/png": "[encoded data removed]",
      "text/plain": [
       "<Figure size 720x576 with 1 Axes>"
      ]
     },
     "metadata": {
      "needs_background": "light"
     },
     "output_type": "display_data"
    }
   ],
   "source": [
    "plot_feature_importance(rf1.feature_importances_,cols,'RANDOM FOREST')"
   ]
  },
  {
   "cell_type": "code",
   "execution_count": 33,
   "id": "3b4e6481-b2ad-430c-8f67-80d2455c8a59",
   "metadata": {},
   "outputs": [
    {
     "name": "stderr",
     "output_type": "stream",
     "text": [
      "/Users/eltonokley/anaconda3/lib/python3.8/site-packages/tensorflow_addons/utils/ensure_tf_install.py:53: UserWarning: Tensorflow Addons supports using Python ops for all Tensorflow versions above or equal to 2.8.0 and strictly below 2.11.0 (nightly versions are not supported). \n",
      " The versions of TensorFlow you are currently using is 2.11.0 and is not supported. \n",
      "Some things might work, some things might not.\n",
      "If you were to encounter a bug, do not file an issue.\n",
      "If you want to make sure you're using a tested and supported configuration, either change the TensorFlow version or the TensorFlow Addons's version. \n",
      "You can find the compatibility matrix in TensorFlow Addon's readme:\n",
      "https://github.com/tensorflow/addons\n",
      "  warnings.warn(\n"
     ]
    }
   ],
   "source": [
    "import tensorflow as tf\n",
    "import tensorflow_addons as tfa\n",
    "from tensorflow import keras\n",
    "import os\n",
    "os.environ['TF_CPP_MIN_LOG_LEVEL'] = '2'"
   ]
  },
  {
   "cell_type": "code",
   "execution_count": 35,
   "id": "4c6304cc-3111-44c1-9d4f-a72f6430b3f2",
   "metadata": {},
   "outputs": [
    {
     "data": {
      "text/plain": [
       "(199364,)"
      ]
     },
     "execution_count": 35,
     "metadata": {},
     "output_type": "execute_result"
    }
   ],
   "source": [
    "X_train.shape\n",
    "X_train.dtype\n",
    "y_train.shape"
   ]
  },
  {
   "cell_type": "markdown",
   "id": "b5164fab-41a4-4382-9dbf-ae5961fece4b",
   "metadata": {},
   "source": [
    "<h1>Neural Network</h1>"
   ]
  },
  {
   "cell_type": "code",
   "execution_count": 40,
   "id": "44cb808e-31c1-45a6-b3df-add68ece2c1b",
   "metadata": {},
   "outputs": [
    {
     "name": "stdout",
     "output_type": "stream",
     "text": [
      "Epoch 1/40\n",
      "6231/6231 [==============================] - 9s 1ms/step - loss: 0.0214 - acc: 0.9985 - precision_1: 0.5843 - recall_1: 0.4319\n",
      "Epoch 2/40\n",
      "6231/6231 [==============================] - 8s 1ms/step - loss: 0.0065 - acc: 0.9990 - precision_1: 0.7885 - recall_1: 0.5942\n",
      "Epoch 3/40\n",
      "6231/6231 [==============================] - 9s 1ms/step - loss: 0.0053 - acc: 0.9991 - precision_1: 0.8320 - recall_1: 0.6174\n",
      "Epoch 4/40\n",
      "6231/6231 [==============================] - 12s 2ms/step - loss: 0.0048 - acc: 0.9992 - precision_1: 0.8571 - recall_1: 0.6783\n",
      "Epoch 5/40\n",
      "6231/6231 [==============================] - 11s 2ms/step - loss: 0.0048 - acc: 0.9992 - precision_1: 0.8290 - recall_1: 0.6464\n",
      "Epoch 6/40\n",
      "6231/6231 [==============================] - 12s 2ms/step - loss: 0.0046 - acc: 0.9993 - precision_1: 0.8502 - recall_1: 0.7072\n",
      "Epoch 7/40\n",
      "6231/6231 [==============================] - 12s 2ms/step - loss: 0.0041 - acc: 0.9993 - precision_1: 0.8824 - recall_1: 0.6957\n",
      "Epoch 8/40\n",
      "6231/6231 [==============================] - 9s 2ms/step - loss: 0.0047 - acc: 0.9993 - precision_1: 0.8667 - recall_1: 0.7159\n",
      "Epoch 9/40\n",
      "6231/6231 [==============================] - 9s 1ms/step - loss: 0.0041 - acc: 0.9993 - precision_1: 0.8497 - recall_1: 0.7043\n",
      "Epoch 10/40\n",
      "6231/6231 [==============================] - 12s 2ms/step - loss: 0.0041 - acc: 0.9993 - precision_1: 0.8542 - recall_1: 0.7130\n",
      "Epoch 11/40\n",
      "6231/6231 [==============================] - 10s 2ms/step - loss: 0.0040 - acc: 0.9993 - precision_1: 0.8800 - recall_1: 0.7014\n",
      "Epoch 12/40\n",
      "6231/6231 [==============================] - 10s 2ms/step - loss: 0.0038 - acc: 0.9993 - precision_1: 0.8671 - recall_1: 0.7188\n",
      "Epoch 13/40\n",
      "6231/6231 [==============================] - 13s 2ms/step - loss: 0.0038 - acc: 0.9993 - precision_1: 0.8667 - recall_1: 0.7159\n",
      "Epoch 14/40\n",
      "6231/6231 [==============================] - 12s 2ms/step - loss: 0.0037 - acc: 0.9994 - precision_1: 0.8785 - recall_1: 0.7333\n",
      "Epoch 15/40\n",
      "6231/6231 [==============================] - 10s 2ms/step - loss: 0.0037 - acc: 0.9994 - precision_1: 0.8803 - recall_1: 0.7246\n",
      "Epoch 16/40\n",
      "6231/6231 [==============================] - 10s 2ms/step - loss: 0.0034 - acc: 0.9993 - precision_1: 0.8901 - recall_1: 0.7043\n",
      "Epoch 17/40\n",
      "6231/6231 [==============================] - 10s 2ms/step - loss: 0.0037 - acc: 0.9994 - precision_1: 0.8901 - recall_1: 0.7275\n",
      "Epoch 18/40\n",
      "6231/6231 [==============================] - 9s 2ms/step - loss: 0.0038 - acc: 0.9994 - precision_1: 0.8912 - recall_1: 0.7362\n",
      "Epoch 19/40\n",
      "6231/6231 [==============================] - 10s 2ms/step - loss: 0.0045 - acc: 0.9993 - precision_1: 0.8720 - recall_1: 0.7304\n",
      "Epoch 20/40\n",
      "6231/6231 [==============================] - 10s 2ms/step - loss: 0.0035 - acc: 0.9994 - precision_1: 0.8983 - recall_1: 0.7681\n",
      "Epoch 21/40\n",
      "6231/6231 [==============================] - 11s 2ms/step - loss: 0.0037 - acc: 0.9994 - precision_1: 0.9000 - recall_1: 0.7043\n",
      "Epoch 22/40\n",
      "6231/6231 [==============================] - 10s 2ms/step - loss: 0.0036 - acc: 0.9994 - precision_1: 0.8935 - recall_1: 0.7536\n",
      "Epoch 23/40\n",
      "6231/6231 [==============================] - 9s 1ms/step - loss: 0.0039 - acc: 0.9994 - precision_1: 0.9043 - recall_1: 0.7391\n",
      "Epoch 24/40\n",
      "6231/6231 [==============================] - 11s 2ms/step - loss: 0.0034 - acc: 0.9994 - precision_1: 0.9066 - recall_1: 0.7594\n",
      "Epoch 25/40\n",
      "6231/6231 [==============================] - 10s 2ms/step - loss: 0.0030 - acc: 0.9994 - precision_1: 0.8953 - recall_1: 0.7188\n",
      "Epoch 26/40\n",
      "6231/6231 [==============================] - 10s 2ms/step - loss: 0.0037 - acc: 0.9994 - precision_1: 0.8942 - recall_1: 0.7101\n",
      "Epoch 27/40\n",
      "6231/6231 [==============================] - 10s 2ms/step - loss: 0.0037 - acc: 0.9994 - precision_1: 0.8947 - recall_1: 0.7391\n",
      "Epoch 28/40\n",
      "6231/6231 [==============================] - 10s 2ms/step - loss: 0.0035 - acc: 0.9995 - precision_1: 0.9263 - recall_1: 0.7652\n",
      "Epoch 29/40\n",
      "6231/6231 [==============================] - 10s 2ms/step - loss: 0.0041 - acc: 0.9994 - precision_1: 0.8958 - recall_1: 0.7478\n",
      "Epoch 30/40\n",
      "6231/6231 [==============================] - 10s 2ms/step - loss: 0.0037 - acc: 0.9994 - precision_1: 0.9081 - recall_1: 0.7449\n",
      "Epoch 31/40\n",
      "6231/6231 [==============================] - 10s 2ms/step - loss: 0.0041 - acc: 0.9994 - precision_1: 0.8964 - recall_1: 0.7275\n",
      "Epoch 32/40\n",
      "6231/6231 [==============================] - 10s 2ms/step - loss: 0.0034 - acc: 0.9995 - precision_1: 0.9132 - recall_1: 0.7623\n",
      "Epoch 33/40\n",
      "6231/6231 [==============================] - 10s 2ms/step - loss: 0.0030 - acc: 0.9994 - precision_1: 0.9048 - recall_1: 0.7159\n",
      "Epoch 34/40\n",
      "6231/6231 [==============================] - 10s 2ms/step - loss: 0.0036 - acc: 0.9994 - precision_1: 0.9077 - recall_1: 0.7130\n",
      "Epoch 35/40\n",
      "6231/6231 [==============================] - 10s 2ms/step - loss: 0.0035 - acc: 0.9994 - precision_1: 0.9014 - recall_1: 0.7420\n",
      "Epoch 36/40\n",
      "6231/6231 [==============================] - 10s 2ms/step - loss: 0.0035 - acc: 0.9994 - precision_1: 0.9094 - recall_1: 0.7275\n",
      "Epoch 37/40\n",
      "6231/6231 [==============================] - 10s 2ms/step - loss: 0.0033 - acc: 0.9994 - precision_1: 0.9236 - recall_1: 0.7362\n",
      "Epoch 38/40\n",
      "6231/6231 [==============================] - 10s 2ms/step - loss: 0.0040 - acc: 0.9994 - precision_1: 0.9231 - recall_1: 0.7304\n",
      "Epoch 39/40\n",
      "6231/6231 [==============================] - 9s 1ms/step - loss: 0.0036 - acc: 0.9994 - precision_1: 0.9036 - recall_1: 0.7333\n",
      "Epoch 40/40\n",
      "6231/6231 [==============================] - 10s 2ms/step - loss: 0.0041 - acc: 0.9994 - precision_1: 0.8838 - recall_1: 0.7275\n"
     ]
    },
    {
     "data": {
      "text/plain": [
       "<keras.callbacks.History at 0x7f87a3ea4880>"
      ]
     },
     "execution_count": 40,
     "metadata": {},
     "output_type": "execute_result"
    }
   ],
   "source": [
    "from tensorflow.random import set_seed\n",
    "model2 = keras.models.Sequential([\n",
    "    keras.layers.Dense(16, input_dim=29, activation='relu'),\n",
    "    keras.layers.Dense(64, activation='relu'),\n",
    "    keras.layers.Dropout(0.5),\n",
    "    keras.layers.Dense(24, activation='relu'),\n",
    "    keras.layers.Dense(1, activation='sigmoid')\n",
    "])\n",
    "\n",
    "set_seed(3)\n",
    "model2.compile(loss='binary_crossentropy', optimizer='adam', metrics=['acc', keras.metrics.Precision(), keras.metrics.Recall()])\n",
    "model2.fit(X_train, y_train, epochs=40)"
   ]
  },
  {
   "cell_type": "code",
   "execution_count": 43,
   "id": "d6c35971-5fbf-46f6-9927-dce42ac63681",
   "metadata": {},
   "outputs": [
    {
     "name": "stdout",
     "output_type": "stream",
     "text": [
      "Model: \"sequential_2\"\n",
      "_________________________________________________________________\n",
      " Layer (type)                Output Shape              Param #   \n",
      "=================================================================\n",
      " dense_8 (Dense)             (None, 16)                480       \n",
      "                                                                 \n",
      " dense_9 (Dense)             (None, 64)                1088      \n",
      "                                                                 \n",
      " dropout_2 (Dropout)         (None, 64)                0         \n",
      "                                                                 \n",
      " dense_10 (Dense)            (None, 24)                1560      \n",
      "                                                                 \n",
      " dense_11 (Dense)            (None, 1)                 25        \n",
      "                                                                 \n",
      "=================================================================\n",
      "Total params: 3,153\n",
      "Trainable params: 3,153\n",
      "Non-trainable params: 0\n",
      "_________________________________________________________________\n",
      "None\n"
     ]
    }
   ],
   "source": [
    "print(model2.summary())"
   ]
  },
  {
   "cell_type": "code",
   "execution_count": 41,
   "id": "7e5f3329-602a-485c-aaf1-c2cdddccded7",
   "metadata": {},
   "outputs": [
    {
     "name": "stdout",
     "output_type": "stream",
     "text": [
      "2671/2671 [==============================] - 3s 1ms/step - loss: 0.0051 - acc: 0.9995 - precision_1: 0.8686 - recall_1: 0.8095\n"
     ]
    },
    {
     "data": {
      "text/plain": [
       "[0.005146067589521408,\n",
       " 0.9994616508483887,\n",
       " 0.8686131238937378,\n",
       " 0.8095238208770752]"
      ]
     },
     "execution_count": 41,
     "metadata": {},
     "output_type": "execute_result"
    }
   ],
   "source": [
    "model2.evaluate(X_test, y_test)"
   ]
  },
  {
   "cell_type": "code",
   "execution_count": 42,
   "id": "8be7465c-2f2e-407f-83d7-7a8977844ea5",
   "metadata": {},
   "outputs": [
    {
     "name": "stdout",
     "output_type": "stream",
     "text": [
      "2671/2671 [==============================] - 2s 820us/step\n",
      "[[85278    18]\n",
      " [   28   119]]\n",
      "              precision    recall  f1-score   support\n",
      "\n",
      "           0       1.00      1.00      1.00     85296\n",
      "           1       0.87      0.81      0.84       147\n",
      "\n",
      "    accuracy                           1.00     85443\n",
      "   macro avg       0.93      0.90      0.92     85443\n",
      "weighted avg       1.00      1.00      1.00     85443\n",
      "\n"
     ]
    }
   ],
   "source": [
    "ann_predicted_probs = model2.predict(X_test)\n",
    "\n",
    "ann_predicted_probs = ann_predicted_probs.flatten().tolist()\n",
    "ann_pred = []\n",
    "\n",
    "for i in ann_predicted_probs:\n",
    "    if i<0.5:\n",
    "        flag = 0\n",
    "    else:\n",
    "        flag = 1\n",
    "    ann_pred.append(flag)\n",
    "\n",
    "ann_pred_classes = np.array(ann_pred)\n",
    "print(confusion_matrix(y_test, ann_pred_classes))\n",
    "print(classification_report(y_test, ann_pred_classes))"
   ]
  },
  {
   "cell_type": "code",
   "execution_count": null,
   "id": "182e1ab5-164f-4956-8842-84d9ac2adac0",
   "metadata": {},
   "outputs": [],
   "source": []
  }
 ],
 "metadata": {
  "kernelspec": {
   "display_name": "Python 3 (ipykernel)",
   "language": "python",
   "name": "python3"
  },
  "language_info": {
   "codemirror_mode": {
    "name": "ipython",
    "version": 3
   },
   "file_extension": ".py",
   "mimetype": "text/x-python",
   "name": "python",
   "nbconvert_exporter": "python",
   "pygments_lexer": "ipython3",
   "version": "3.8.8 (default, Apr 13 2021, 12:59:45) \n[Clang 10.0.0 ]"
  },
  "vscode": {
   "interpreter": {
    "hash": "d3f7105224b19e6fd9c8ef9edf9decc58e397b8736053f320ddbb8eaa6402ca8"
   }
  }
 },
 "nbformat": 4,
 "nbformat_minor": 5
}
